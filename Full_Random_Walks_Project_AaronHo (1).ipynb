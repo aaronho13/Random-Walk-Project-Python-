{
 "cells": [
  {
   "cell_type": "markdown",
   "metadata": {},
   "source": [
    "# Python Workshop Final Project: An Introduction to Random Walks"
   ]
  },
  {
   "cell_type": "markdown",
   "metadata": {},
   "source": [
    "**My contact info:** <br/>\n",
    "Will Cerny <br/>\n",
    "willcerny@gmail.com\n",
    "(For code help, use the Slack!)\n",
    "\n"
   ]
  },
  {
   "cell_type": "markdown",
   "metadata": {},
   "source": [
    "In this project notebook, you will learn how the basics of Random Walks, and how to implement them in Python from scratch. Then, you will us them in various applications (both mathematical and physical). \n",
    "\n",
    "**Requirements/Deliverables for Certificate, as determined by the Physics Department:**\n",
    "1. Completion of the tasks laid out in the notebook below. \n",
    "2. Submission of your code in notebook form with your own implementations of these tasks.\n",
    "3. An accompanying 4-5 page report to go with it (length excludes code+references but includes figures showing results from each part that asks for one = 4+ total figures).\n",
    "\n",
    "Note that I specify which type of figure to provide for parts 2-3-4. Your report is mainly about these results, so you can (and certainly should) describe what's going on in each one!\n",
    "\n",
    "\n",
    "These will be submitted to me at the email address given at the top of this notebook. Everything will be evaluated as \"Pass/Fail\" based on completion of *all* the tasks below and the report above. The recommended due date is \n",
    "March 11 (Friday before reading weekend), but we will allow submissions as late as 5pm on Friday, March 18th (last day of the quarter = during finals week). We suggest making progress before the recommended deadline, because the instructors will likely not be able to help as much during finals weeek due to exams of our own."
   ]
  },
  {
   "cell_type": "markdown",
   "metadata": {},
   "source": [
    "## Part 0: A Conceptual Introduction to Random Walks"
   ]
  },
  {
   "cell_type": "markdown",
   "metadata": {},
   "source": [
    "According to the ever-reliable Wikipedia, a random walk is a \"**random process that describes a path that consists of a succession of random steps on some mathematical space.\"**\n",
    "\n",
    "Typically, we make the assumption that each step is independent of those which came before it, except for the immediate preceding step. This type of discrete step random walk approach has lots of applications: it describes collisional particles, the movements of stock prices after individual trades, the movement of some bacteria, etc. More advanced forms of random walks are also used for solving optimization problems: for example, Markov Chain Monte Carlo (MCMC) sampling - which is used very often in the physical sciences - is ultimately a form of random walk."
   ]
  },
  {
   "cell_type": "markdown",
   "metadata": {},
   "source": [
    "## Part 1: A Simple 1D Random Walk with Loops"
   ]
  },
  {
   "cell_type": "markdown",
   "metadata": {},
   "source": [
    "The first part of this project is relatively simple, but is very fundamental to everything else we do. We will first begin by writing a loop-based random walk code. The algorithm should look a bit like this:"
   ]
  },
  {
   "cell_type": "code",
   "execution_count": 10,
   "metadata": {},
   "outputs": [
    {
     "data": {
      "image/png": "[encoded data removed]",
      "text/plain": [
       "<Figure size 432x288 with 1 Axes>"
      ]
     },
     "metadata": {
      "needs_background": "light"
     },
     "output_type": "display_data"
    }
   ],
   "source": [
    "import numpy as np, matplotlib.pyplot as plt, pandas as pd \n",
    "\n",
    "nStep = 50\n",
    "stepLength = 1\n",
    "points = randomWalk1D_NoLoop(nStep,stepLength)\n",
    "\n",
    "index = np.arange(nStep)\n",
    "plt.plot(index, points)\n",
    "\n",
    "plt.xlabel(\"Index Values\",fontsize = 16) \n",
    "plt.ylabel(\"Random Values\",fontsize = 16)\n",
    "plt.title(\"Random Walks in 1D\",fontsize = 16)\n",
    "\n",
    "low, high = plt.ylim()\n",
    "bound = max(abs(low), abs(high))\n",
    "plt.ylim(-bound, bound)\n",
    "\n",
    "plt.show()"
   ]
  },
  {
   "cell_type": "code",
   "execution_count": 11,
   "metadata": {},
   "outputs": [],
   "source": [
    "def randomWalk1D_WithLoop(nStep, stepLength):\n",
    "    \n",
    "    walk1D = np.zeros(nStep)\n",
    "    \n",
    "    for i in range(0, nStep-1):\n",
    "        direction = np.random.rand()\n",
    "        if direction >= 0.5:\n",
    "            walk1D[i+1] = stepLength + walk1D[i]\n",
    "        else:\n",
    "            walk1D[i+1] = walk1D[i] -stepLength   \n",
    "        \n",
    "    return (walk1D)\n",
    "    \n",
    "    '''\n",
    "    Arguments\n",
    "    ---------------\n",
    "    nstep: Number of Steps\n",
    "    steplength = Length of Step\n",
    "    \n",
    "    A function which simulates a 1D random walk for a certain number of steps, and for a certain step length.\n",
    "    \n",
    "    Returns\n",
    "    ---------------\n",
    "    Array of length nstep which has the particle's position for each step.\n",
    "    \n",
    "    '''\n",
    "    \n",
    "    "
   ]
  },
  {
   "cell_type": "markdown",
   "metadata": {},
   "source": []
  },
  {
   "cell_type": "markdown",
   "metadata": {},
   "source": []
  },
  {
   "cell_type": "markdown",
   "metadata": {},
   "source": [
    "## Part 2: A Simple 1D Random Walk *without* Loops"
   ]
  },
  {
   "cell_type": "markdown",
   "metadata": {},
   "source": [
    "The above method, when implemented, is nice, but lacks computational efficiency. It will be come really slow as nsteps grows large, since you have to loop through a long array of numbers. This can be avoided by **precomputing** the (signed) step direction/length for the entire list of steps you will take, and then simply taking the cumulative sum of these numbers. "
   ]
  },
  {
   "cell_type": "markdown",
   "metadata": {},
   "source": [
    "It turns out that these two steps (precomputing steps + cumulative summation) are very similar in numpy. The corresponding functions are np.random.rand() and np.cumsum() -- you'll need to look up the arguments for each of these via Google. With these in hand, it should be quite fast to generate a n-length random walk!"
   ]
  },
  {
   "cell_type": "code",
   "execution_count": 12,
   "metadata": {},
   "outputs": [],
   "source": [
    "def randomWalk1D_NoLoop(nStep, stepLength):\n",
    "    \n",
    "    arr = np.random.choice([-stepLength,stepLength], size = (nStep))\n",
    "    return np.cumsum(arr)\n",
    "    '''\n",
    "    Arguments\n",
    "    ---------------\n",
    "    nstep: Number of Steps\n",
    "    steplength = Length of Step\n",
    "    \n",
    "    A function which simulates a 1D random walk for a certain number of steps, and for a certain step length.\n",
    "    \n",
    "    \n",
    "    '''"
   ]
  },
  {
   "cell_type": "markdown",
   "metadata": {},
   "source": [
    "### Deliverable for Report"
   ]
  },
  {
   "cell_type": "markdown",
   "metadata": {},
   "source": [
    "Include a plot -- created with matplotlib -- of your random walk using the function you define here in part 2. Use a step length of 5 and 1000 steps. Be sure to give your plot a title and axes labels! Also, set your y-axs limits to be symmetric about 0."
   ]
  },
  {
   "cell_type": "markdown",
   "metadata": {},
   "source": [
    "## Part 3: Estimating the value of pi using an Ensemble of Random Walks with varying nstep across walks"
   ]
  },
  {
   "cell_type": "markdown",
   "metadata": {},
   "source": [
    "### Task Description"
   ]
  },
  {
   "cell_type": "markdown",
   "metadata": {},
   "source": [
    "It turns out that it is possible to show that the distance travelled by a particle undergoing a 1D random walk is, on average,\n",
    "\n",
    "$$ d_{\\rm avg} = \\sqrt{\\frac{2n}{\\pi}}$$\n",
    "\n",
    "This means that so long as we can run random walks for n steps and recording their distance from the origin, we should have a direct estimate of the value of $\\pi$. Since we can run lots of random walks, varying n each time, we can record lots of values for d for *independent* random walks of length n. This way, this turns out to be a linear regression problem, and you know that the slope will be related to pi!"
   ]
  },
  {
   "cell_type": "markdown",
   "metadata": {},
   "source": [
    "The goal will be to estimate the value of pi using the 1D random walk code you wrote for part b. You will collect data across many runs of random walk with different step lengths n, and compute the final distance d. Then you will use the numpy linear regression function (see Lecture 6) to get a slope estimate, which you can relate to the value of pi."
   ]
  },
  {
   "cell_type": "code",
   "execution_count": 18,
   "metadata": {},
   "outputs": [
    {
     "data": {
      "image/png": "[encoded data removed]",
      "text/plain": [
       "<Figure size 432x288 with 1 Axes>"
      ]
     },
     "metadata": {
      "needs_background": "light"
     },
     "output_type": "display_data"
    },
    {
     "name": "stdout",
     "output_type": "stream",
     "text": [
      "Estimate of Pi: 3.117132251874283\n",
      "Actual Value of Pi:  3.141592653589793\n",
      "Percent Error: 0.7847084993%\n"
     ]
    }
   ],
   "source": [
    "from scipy.stats import linregress\n",
    "import math\n",
    "\n",
    "stepLength = 1\n",
    "start = 50\n",
    "end = 500\n",
    "interval = 10\n",
    "numberStepsPerWalk = 1000\n",
    "\n",
    "diffSteps = np.linspace(50,500,100)\n",
    "d_avg = []\n",
    "for i in diffSteps:\n",
    "    d_list = []\n",
    "    for j in range(0,numberStepsPerWalk):\n",
    "        d = randomWalk1D_NoLoop(int(i), stepLength)\n",
    "        d_list.append(d[(int(i-1))])  \n",
    "    d_avg.append(np.average(np.absolute(d_list)))\n",
    "\n",
    "index = np.arange(end -1)\n",
    "plt.scatter(diffSteps,np.square(d_avg))\n",
    "\n",
    "plt.xlabel(\"Number of Steps\",fontsize = 16) \n",
    "plt.ylabel(\"Random Values\",fontsize = 16)\n",
    "plt.title(\"Estimating Pi:\",fontsize = 16)\n",
    "\n",
    "low, high = plt.ylim()\n",
    "bound = max(abs(low), abs(high))\n",
    "plt.ylim(0, bound)\n",
    "\n",
    "#linear regression\n",
    "L = linregress(x = diffSteps, y = np.square(d_avg))\n",
    "plt.plot(diffSteps, diffSteps * L.slope + L.intercept, color = 'red')\n",
    "plt.show()\n",
    "# The linear regression slope is D(avg)^2 / n, which equals 2/pi\n",
    "print(\"Estimate of Pi:\", (2/ L.slope))\n",
    "print(\"Actual Value of Pi: \", np.pi)\n",
    "print(\"Percent Error: {:.10f}%\".format(abs(((2/ L.slope) - np.pi) / (2/ L.slope))*100))\n"
   ]
  },
  {
   "cell_type": "markdown",
   "metadata": {},
   "source": [
    "### "
   ]
  },
  {
   "cell_type": "code",
   "execution_count": null,
   "metadata": {},
   "outputs": [],
   "source": []
  },
  {
   "cell_type": "markdown",
   "metadata": {},
   "source": [
    "### Deliverable for Report"
   ]
  },
  {
   "cell_type": "markdown",
   "metadata": {},
   "source": [
    "Generate a figure showing your data collection across your random walk iterations, and the corresponding slope fit. Be sure to label your axes, and include the slope and intercept of your relation somewhere. In the text of your report, be sure to discuss the precision of your estimate (e.g, calculate percent error)!"
   ]
  },
  {
   "cell_type": "markdown",
   "metadata": {},
   "source": [
    "## Part 4: 1D Particle Diffusion / Brownian Motion: Probability Distributions for an Ensemble of Random Walks with fixed nstep for all walks"
   ]
  },
  {
   "cell_type": "markdown",
   "metadata": {},
   "source": [
    "In this part, we consider a particle undergoing diffusion. Please read [this page](https://www.compadre.org/nexusph/course/Diffusion_and_random_walks) to learn about why diffusion of gas molecules is a process that is described by a random walk. (my formulas below are slightly different here, so just note that fact). This is exactly the type of thing to include in your report. Recapping the math involved, we can model a diffusive particle's random walk through two main parameters:"
   ]
  },
  {
   "cell_type": "markdown",
   "metadata": {},
   "source": [
    " $$ \\lambda =v_0 \\Delta t = \\text{ the \"mean free path,\" and } $$ $$ D = \\frac{\\lambda^2}{2 \\Delta t}  = \\text{ the diffusion constant}$$\n",
    ", ."
   ]
  },
  {
   "cell_type": "markdown",
   "metadata": {},
   "source": [
    "Now, as the previous part has shown, we know that the average displacement that an ensemble of particles end up at after a random walk is some amount $d_{\\rm avg}$. We can actually say more than just this: we can also estimate the probability that an individual walker ends up at some distance $d$. As noted in the link above,\n",
    "$$ P(d) = \\frac{1}{\\sqrt{4 \\pi  D  t}} e^{-\\big(\\frac{d^2}{4 D t}\\big)} $$"
   ]
  },
  {
   "cell_type": "markdown",
   "metadata": {},
   "source": [
    "We can reproduce this distribution empirically by running many walks of the same nstep and plotting a histogram of their resulting distribution."
   ]
  },
  {
   "cell_type": "markdown",
   "metadata": {},
   "source": [
    "### Task Description "
   ]
  },
  {
   "cell_type": "markdown",
   "metadata": {},
   "source": [
    "Your goal is to show that this is true. To do so, again adapt code you have already written in this notebook for running an ensemble of walks, but make it into a function that can includes an argument for $v_0$. Then, write a separate function which plots the results of this function, and overplots the theoretical prediction for P(d) given in the formula above. You can assume that $\\Delta t = 1$ such that t = nstep; this therefore means that the step length ($\\lambda$) is just equal to $v_0$.  The functions you write should take the following skeletons:"
   ]
  },
  {
   "cell_type": "code",
   "execution_count": 14,
   "metadata": {},
   "outputs": [],
   "source": [
    "def run_ensemble(nStep, v0):\n",
    "    '''\n",
    "    Arguments:\n",
    "    nstep: number of steps per walk\n",
    "    v0: a velocity constant which sets the scale of each step.\n",
    "    \n",
    "    A function which runs an ensemble of walks, each of length nstep. \n",
    "    \n",
    "    Returns: \n",
    "    An array of the final displacements (d)\n",
    "    '''\n",
    "    finalDis = []\n",
    "    for i in range(0,nStep):\n",
    "        d = randomWalk1D_NoLoop(nStep, v0)\n",
    "        finalDis.append(d[-1])\n",
    "\n",
    "    return finalDis\n",
    "    "
   ]
  },
  {
   "cell_type": "code",
   "execution_count": 15,
   "metadata": {},
   "outputs": [],
   "source": [
    "def plot_ensemble(dis, nStep, v0):\n",
    "    '''\n",
    "    Arguments:\n",
    "    displacements: the output from the first function.\n",
    "    v0: a velocity constant which sets the scale of each step. Needed for plotting theory P(d)\n",
    "    nstep: again only needed for plotting theoretical P(d)\n",
    "    \n",
    "    Create a single figure. In that figure, plot a (matplotlib) histogram of displacements d,\n",
    "    and then overplot the predicted value p(D) using plt.plot(); see hint below..\n",
    "    \n",
    "    Returns: \n",
    "    Nothing formally, but this function should generate a plot.\n",
    "    '''\n",
    "    std1 = np.std(dis)\n",
    "    \n",
    "    plt.hist(dis,density=True, bins = 30, label = \"Trials std : \"+ str(std1))\n",
    "    \n",
    "    x = np.linspace(-nStep/3,nStep/3,nStep*3)\n",
    "    \n",
    "    y = (1/np.sqrt(4*np.pi *(v0**2/2) *nStep)) * (np.exp(-(np.square(x)/(4 * (v0**2/2) *nStep))))\n",
    "    \n",
    "    std_formula = np.sqrt(2* (v0**2/2)*nStep)   \n",
    "    \n",
    "    plt.plot(x,y, lw = 3, label = \"Predicted: \" + str(std_formula))\n",
    "    plt.xlabel(\"Termination Point of Walk (distance)\")\n",
    "    plt.ylabel(\"Probabilitiy\")\n",
    "    plt.title(\"Distance vs. Probability\")\n",
    "    plt.legend()\n",
    "    plt.show()\n",
    "    print(\"Percent Error: {:.10f}%\".format(abs((std1 - std_formula) / std1)*100))"
   ]
  },
  {
   "cell_type": "code",
   "execution_count": 27,
   "metadata": {},
   "outputs": [
    {
     "data": {
      "image/png": "[encoded data removed]",
      "text/plain": [
       "<Figure size 432x288 with 1 Axes>"
      ]
     },
     "metadata": {
      "needs_background": "light"
     },
     "output_type": "display_data"
    },
    {
     "name": "stdout",
     "output_type": "stream",
     "text": [
      "Percent Error: -0.0011000955%\n"
     ]
    }
   ],
   "source": [
    "import matplotlib.pyplot as plt\n",
    "import math\n",
    "\n",
    "nStep = 5000\n",
    "v0 = 5\n",
    "dis = run_ensemble(nStep, v0)\n",
    "plot_ensemble(dis, nStep, v0)"
   ]
  },
  {
   "cell_type": "markdown",
   "metadata": {},
   "source": [
    "Hint: for plotting the theory, remember that you can use np.linspace() to generate a grid of d values and simply apply mathematical operations to it to get it into the form P(d). In the call to the matplotlib histogram function, use the \"density = True\" argument to normalize the histogram of your samples so that they agree."
   ]
  },
  {
   "cell_type": "markdown",
   "metadata": {},
   "source": [
    "Lastly, to check your work, use the numpy standard deviation function on your ensemble of final displacements $d$, and check that this value agrees with the theoretical prediction that the spread should be:\n",
    "$$ \\sigma = \\sqrt{2Dt} $$"
   ]
  },
  {
   "cell_type": "markdown",
   "metadata": {},
   "source": [
    "Please use a value of $v_0 = 5$ for running your function to generate these plots and for checking with the formula above. I recommend setting nEnsembles = 5000 and nstep = 5000 at minimum to get a good result."
   ]
  },
  {
   "cell_type": "markdown",
   "metadata": {},
   "source": [
    "### Deliverables for Report"
   ]
  },
  {
   "cell_type": "markdown",
   "metadata": {},
   "source": [
    "Include the plot showing the Gaussian P(d) overlaid over the histogram of distances $d$. Again, remember axes labels and a title. Also demonstrate in the text that you were able to recover the value of $\\sigma$ predicted by the expresson given above."
   ]
  },
  {
   "cell_type": "markdown",
   "metadata": {},
   "source": [
    "## Part 5: Choose your own further application!"
   ]
  },
  {
   "cell_type": "markdown",
   "metadata": {},
   "source": [
    "As noted at the workshop session where we pitched this project, we want you to explore a topic of your own interest here. Reach out to Will when you reach this point and we can talk through a plan! "
   ]
  },
  {
   "cell_type": "code",
   "execution_count": 16,
   "metadata": {
    "scrolled": true
   },
   "outputs": [],
   "source": [
    "def randomWalk2D(nStep, stepLength):\n",
    "    '''\n",
    "    Arguments: number of steps as nStep and length of each step as steplength\n",
    "    \n",
    "    Creates the array of random walks to be called by the main program. Note that for simplicity we restrict \n",
    "    the walk movements to the x and y axis only, rather than the set of points on the unit of circle. However,\n",
    "    it can be generalized for a more accurate random walk. \n",
    "\n",
    "    Returns two random walks for the x and y coordinates, respectively. \n",
    "\n",
    "    '''\n",
    "    directionX = np.random.choice([-stepLength, 0,stepLength], size = nStep)\n",
    "    directionY = np.random.choice([-stepLength, 0, stepLength], size = nStep)\n",
    "\n",
    "    for i in range(0, nStep):\n",
    "        if (directionX[i] == 0 ) and (directionY[i] ==0):\n",
    "            dir = np.random.rand()\n",
    "            if dir >= 0.5:\n",
    "                directionX[i] = np.random.choice([-stepLength, stepLength])\n",
    "            else:\n",
    "                directionY[i] = np.random.choice([-stepLength, stepLength])\n",
    "       \n",
    "    walk2Dx= np.cumsum(directionX)\n",
    "    walk2Dy = np.cumsum(directionY)\n",
    "       \n",
    "    return walk2Dx, walk2Dy"
   ]
  },
  {
   "cell_type": "code",
   "execution_count": 333,
   "metadata": {},
   "outputs": [],
   "source": []
  },
  {
   "cell_type": "code",
   "execution_count": 17,
   "metadata": {},
   "outputs": [
    {
     "name": "stdout",
     "output_type": "stream",
     "text": [
      "StdX: 302.50040433691987 , StdY: 300.5306936587343\n",
      "Std for 2D: 426.40965333233254\n",
      "Predicted: 500.0\n"
     ]
    },
    {
     "data": {
      "image/png": "[encoded data removed]",
      "text/plain": [
       "<Figure size 432x288 with 1 Axes>"
      ]
     },
     "metadata": {
      "needs_background": "light"
     },
     "output_type": "display_data"
    }
   ],
   "source": [
    "import matplotlib.pyplot as plt\n",
    "nStep = 5000\n",
    "stepLength = 5\n",
    "\n",
    "finalX, finalY = []\n",
    "for i in range(0,nStep):    \n",
    "    x,y = randomWalk2D(nStep, stepLength)\n",
    "    finalX.append(x[-1])\n",
    "    finalY.append(y[-1])\n",
    "\n",
    "xlow, xhigh = plt.xlim()\n",
    "ylow, yhigh = plt.ylim()\n",
    "boundx = max(abs(xlow), abs(xhigh))\n",
    "boundy = max(abs(ylow), abs(yhigh))\n",
    "plt.xlim(-boundx, boundx)\n",
    "plt.ylim(-boundy, boundy)\n",
    "\n",
    "stdx = np.std(finalX)\n",
    "stdy = np.std(finalY)\n",
    "plt.hist2d(x,y, bins = (30,30), density = True)\n",
    "\n",
    "print(\"StdX: \" + str(stdx), \", StdY: \" + str(stdy))\n",
    "print(\"Std for 2D: \" + str(np.sqrt(stdx**2 + stdy **2)))\n",
    "std_formula = np.sqrt(4 *((stepLength**2) / 2)* nStep)\n",
    "print(\"Predicted: \" +str(std_formula))\n",
    "plt.xlabel(\"2D: X-values\")\n",
    "plt.ylabel(\"2D: Y-values\")\n",
    "plt.title(\"Probability Distrubtion for 2D Random Walks\")\n",
    "plt.show()\n",
    "print(\"Percent Error: {:.10f}%\".format(abs((std1 - std_formula) / std1)) * 100)"
   ]
  },
  {
   "cell_type": "code",
   "execution_count": null,
   "metadata": {},
   "outputs": [],
   "source": [
    "\n"
   ]
  },
  {
   "cell_type": "code",
   "execution_count": null,
   "metadata": {},
   "outputs": [],
   "source": []
  }
 ],
 "metadata": {
  "kernelspec": {
   "display_name": "Python 3 (ipykernel)",
   "language": "python",
   "name": "python3"
  },
  "language_info": {
   "codemirror_mode": {
    "name": "ipython",
    "version": 3
   },
   "file_extension": ".py",
   "mimetype": "text/x-python",
   "name": "python",
   "nbconvert_exporter": "python",
   "pygments_lexer": "ipython3",
   "version": "3.9.7"
  }
 },
 "nbformat": 4,
 "nbformat_minor": 2
}
